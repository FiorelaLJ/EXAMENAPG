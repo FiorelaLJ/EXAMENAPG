{
 "cells": [
  {
   "cell_type": "code",
   "execution_count": 1,
   "metadata": {},
   "outputs": [],
   "source": [
    "import random\n",
    "import math"
   ]
  },
  {
   "cell_type": "code",
   "execution_count": 10,
   "metadata": {},
   "outputs": [],
   "source": [
    "individuos = 20\n",
    "cromosomas = 9\n",
    "init=1\n",
    "generaciones = 3"
   ]
  },
  {
   "cell_type": "code",
   "execution_count": 11,
   "metadata": {},
   "outputs": [],
   "source": [
    "def truncar(num) -> float:\n",
    "    asd = pow(10.0, 3)\n",
    "    return math.trunc(asd * num) / asd"
   ]
  },
  {
   "cell_type": "code",
   "execution_count": 13,
   "metadata": {},
   "outputs": [],
   "source": [
    "poblacion = [[0 for x in range(init)] for x in range(individuos)]\n",
    "#llenando la población aleatoriamente\n",
    "for individuo in range(individuos):\n",
    "    for cromosoma in range(init):\n",
    "        poblacion[individuo][0] = truncar(random.uniform(-2.048,2.048))"
   ]
  },
  {
   "cell_type": "code",
   "execution_count": 14,
   "metadata": {},
   "outputs": [
    {
     "data": {
      "text/plain": [
       "[[1.32],\n",
       " [-1.076],\n",
       " [-1.208],\n",
       " [-0.004],\n",
       " [-0.831],\n",
       " [-1.315],\n",
       " [-1.886],\n",
       " [1.467],\n",
       " [1.178],\n",
       " [1.365],\n",
       " [-0.204],\n",
       " [-0.976],\n",
       " [-1.308],\n",
       " [-0.646],\n",
       " [0.579],\n",
       " [-0.15],\n",
       " [-1.016],\n",
       " [-1.008],\n",
       " [-1.824],\n",
       " [1.755]]"
      ]
     },
     "execution_count": 14,
     "metadata": {},
     "output_type": "execute_result"
    }
   ],
   "source": [
    "poblacion"
   ]
  },
  {
   "cell_type": "code",
   "execution_count": null,
   "metadata": {},
   "outputs": [],
   "source": []
  }
 ],
 "metadata": {
  "kernelspec": {
   "display_name": "Python 3",
   "language": "python",
   "name": "python3"
  },
  "language_info": {
   "codemirror_mode": {
    "name": "ipython",
    "version": 3
   },
   "file_extension": ".py",
   "mimetype": "text/x-python",
   "name": "python",
   "nbconvert_exporter": "python",
   "pygments_lexer": "ipython3",
   "version": "3.7.1"
  }
 },
 "nbformat": 4,
 "nbformat_minor": 2
}
